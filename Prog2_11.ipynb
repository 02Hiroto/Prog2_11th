{
  "nbformat": 4,
  "nbformat_minor": 0,
  "metadata": {
    "colab": {
      "name": "Prog2_11.ipynb",
      "provenance": [],
      "collapsed_sections": [],
      "include_colab_link": true
    },
    "kernelspec": {
      "name": "python3",
      "display_name": "Python 3"
    },
    "language_info": {
      "name": "python"
    }
  },
  "cells": [
    {
      "cell_type": "markdown",
      "metadata": {
        "id": "view-in-github",
        "colab_type": "text"
      },
      "source": [
        "<a href=\"https://colab.research.google.com/github/tokiwa-lab/Prog2_11th/blob/main/Prog2_11.ipynb\" target=\"_parent\"><img src=\"https://colab.research.google.com/assets/colab-badge.svg\" alt=\"Open In Colab\"/></a>"
      ]
    },
    {
      "cell_type": "markdown",
      "metadata": {
        "id": "tgWdmF8vWnQQ"
      },
      "source": [
        "# プログラミングII 第11回 演習課題\n",
        "\n",
        "* 各自でプログラムの問題を設定し，その解答（pythonプログラム）を表記してください．\n",
        "* 問題は１問とし，小問などは設けないでください\n",
        "* 問題番号は学籍番号とします．例えば，22001番の人は第22001問としてください\n",
        "* 今週の課題はGitの操作を体験することに重点を置いています．問題は簡単な問題で構いませんし，回答が間違っていても減点はしません\n",
        "\n"
      ]
    },
    {
      "cell_type": "markdown",
      "metadata": {
        "id": "kWDt6DMjtNEE"
      },
      "source": [
        "第　問\n",
        "次の問題に答えなさい\n",
        "\n",
        "(ここから以降に自作問題を書いてください)\n",
        "\n",
        "生年月日を聞いて，干支を返すプログラムを作成する"
      ]
    },
    {
      "cell_type": "code",
      "metadata": {
        "id": "W168b2aYtPpT"
      },
      "source": [
        "# ここに自作問題の回答（pythonプログラム）を書いてください"
      ],
      "execution_count": null,
      "outputs": []
    }
  ]
}